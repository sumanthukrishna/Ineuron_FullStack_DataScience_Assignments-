{
 "cells": [
  {
   "cell_type": "markdown",
   "id": "ad987625",
   "metadata": {},
   "source": [
    "1.\tWrite a Python program to find sum of elements in list?"
   ]
  },
  {
   "cell_type": "code",
   "execution_count": 2,
   "id": "2e3b0427",
   "metadata": {},
   "outputs": [
    {
     "name": "stdout",
     "output_type": "stream",
     "text": [
      "465\n"
     ]
    }
   ],
   "source": [
    "l=[1,4,5,6,7,89,8,345]\n",
    "sum=0\n",
    "for i in l:\n",
    "    sum=sum+i\n",
    "print(sum)"
   ]
  },
  {
   "cell_type": "markdown",
   "id": "023ea927",
   "metadata": {},
   "source": [
    "2.\tWrite a Python program to  Multiply all numbers in the list?"
   ]
  },
  {
   "cell_type": "code",
   "execution_count": 4,
   "id": "1455237e",
   "metadata": {},
   "outputs": [
    {
     "name": "stdout",
     "output_type": "stream",
     "text": [
      "120\n"
     ]
    }
   ],
   "source": [
    "l=[1,2,3,4,5]\n",
    "pro=1\n",
    "for i in l:\n",
    "    pro=pro*i\n",
    "print(pro)\n"
   ]
  },
  {
   "cell_type": "markdown",
   "id": "b095239d",
   "metadata": {},
   "source": [
    "3.\tWrite a Python program to find smallest number in a list?"
   ]
  },
  {
   "cell_type": "code",
   "execution_count": 5,
   "id": "f55a17b5",
   "metadata": {},
   "outputs": [
    {
     "data": {
      "text/plain": [
       "5"
      ]
     },
     "execution_count": 5,
     "metadata": {},
     "output_type": "execute_result"
    }
   ],
   "source": [
    "l=[14,44,5,6,7,89,8,345]\n",
    "min(l)"
   ]
  },
  {
   "cell_type": "markdown",
   "id": "a76c3a11",
   "metadata": {},
   "source": [
    "4.\tWrite a Python program to find largest number in a list?"
   ]
  },
  {
   "cell_type": "code",
   "execution_count": 6,
   "id": "58efa3a6",
   "metadata": {},
   "outputs": [
    {
     "data": {
      "text/plain": [
       "345"
      ]
     },
     "execution_count": 6,
     "metadata": {},
     "output_type": "execute_result"
    }
   ],
   "source": [
    "l=[14,44,5,6,7,89,8,345]\n",
    "max(l)"
   ]
  },
  {
   "cell_type": "markdown",
   "id": "b5266576",
   "metadata": {},
   "source": [
    "5.\tWrite a Python program to find second largest number in a list?"
   ]
  },
  {
   "cell_type": "code",
   "execution_count": 10,
   "id": "4b38c60d",
   "metadata": {},
   "outputs": [
    {
     "data": {
      "text/plain": [
       "89"
      ]
     },
     "execution_count": 10,
     "metadata": {},
     "output_type": "execute_result"
    }
   ],
   "source": [
    "l=[14,44,5,6,7,89,8,345]\n",
    "l.sort(reverse=True)\n",
    "l[1]"
   ]
  },
  {
   "cell_type": "markdown",
   "id": "692f5968",
   "metadata": {},
   "source": [
    "6.\tWrite a Python program to find N largest elements from a list?"
   ]
  },
  {
   "cell_type": "code",
   "execution_count": 11,
   "id": "d82cd03d",
   "metadata": {},
   "outputs": [
    {
     "name": "stdout",
     "output_type": "stream",
     "text": [
      "345\n",
      "89\n",
      "44\n"
     ]
    }
   ],
   "source": [
    "l=[14,44,5,6,7,89,8,345]\n",
    "l.sort(reverse=True)\n",
    "nele=3 \n",
    "for i in range(nele):\n",
    "    print(l[i])"
   ]
  },
  {
   "cell_type": "markdown",
   "id": "c778a45d",
   "metadata": {},
   "source": [
    "7.\tWrite a Python program to print even numbers in a list?"
   ]
  },
  {
   "cell_type": "code",
   "execution_count": 12,
   "id": "5a4934eb",
   "metadata": {},
   "outputs": [
    {
     "name": "stdout",
     "output_type": "stream",
     "text": [
      "[14, 44, 6, 8]\n"
     ]
    }
   ],
   "source": [
    "l=[14,44,5,6,7,89,8,345]\n",
    "evl=[]\n",
    "for i in l:\n",
    "    if i %2==0:\n",
    "        evl.append(i)\n",
    "print(evl)"
   ]
  },
  {
   "cell_type": "markdown",
   "id": "bbc7cc42",
   "metadata": {},
   "source": [
    "8.\tWrite a Python program to print odd numbers in a List?"
   ]
  },
  {
   "cell_type": "code",
   "execution_count": 14,
   "id": "79409655",
   "metadata": {},
   "outputs": [
    {
     "name": "stdout",
     "output_type": "stream",
     "text": [
      "[5, 7, 89, 345]\n"
     ]
    }
   ],
   "source": [
    "l=[14,44,5,6,7,89,8,345]\n",
    "odl=[]\n",
    "for i in l:\n",
    "    if i %2!=0:\n",
    "        odl.append(i)\n",
    "print(evl)"
   ]
  },
  {
   "cell_type": "markdown",
   "id": "2b672015",
   "metadata": {},
   "source": [
    "9.\tWrite a Python program to Remove empty List from List?"
   ]
  },
  {
   "cell_type": "code",
   "execution_count": 63,
   "id": "ac5d2422",
   "metadata": {},
   "outputs": [
    {
     "name": "stdout",
     "output_type": "stream",
     "text": [
      "[1, 2, 34, [], 45, [3, 4, 5], 90, 763, [], 678, [4, 5, 6, 7, 9], []]\n",
      "[1, 2, 34, 45, [3, 4, 5], 90, 763, 678, [4, 5, 6, 7, 9]]\n"
     ]
    }
   ],
   "source": [
    "lst=[1,2,34,[],45,[3,4,5],90,763,[],678,[4,5,6,7,9],[]]\n",
    "print(lst)\n",
    "for i in lst:\n",
    "    if type(i)==list and len(i)==0:\n",
    "        lst.remove(i)\n",
    "print(lst)"
   ]
  },
  {
   "cell_type": "markdown",
   "id": "f969358d",
   "metadata": {},
   "source": [
    "10.\tWrite a Python program to Cloning or Copying a list?"
   ]
  },
  {
   "cell_type": "code",
   "execution_count": 56,
   "id": "4a4a1012",
   "metadata": {},
   "outputs": [
    {
     "name": "stdout",
     "output_type": "stream",
     "text": [
      "[1, 2, 34, [], 45, [3, 4, 5], 90, 763]\n",
      "[1, 2, 34, [], 45, [3, 4, 5], 90, 763]\n"
     ]
    }
   ],
   "source": [
    "#way1 \n",
    "lstorg=[1,2,34,[],45,[3,4,5],90,763]\n",
    "lstrep=lstorg.copy()\n",
    "print(lstrep)\n",
    "\n",
    "#way2\n",
    "lstorg2=[1,2,34,[],45,[3,4,5],90,763]\n",
    "lstrep2=lstorg2\n",
    "print(lstrep2)"
   ]
  },
  {
   "cell_type": "markdown",
   "id": "ad49e9d5",
   "metadata": {},
   "source": [
    "11.\tWrite a Python program to Count occurrences of an element in a list?"
   ]
  },
  {
   "cell_type": "code",
   "execution_count": 48,
   "id": "f1408742",
   "metadata": {},
   "outputs": [
    {
     "name": "stdout",
     "output_type": "stream",
     "text": [
      "No of times 1 occured is 5\n",
      "No of times 2 occured is 3\n",
      "No of times 3 occured is 2\n",
      "No of times 4 occured is 1\n"
     ]
    }
   ],
   "source": [
    "lst=[1,2,3,2,1,1,1,1,2,3,4]\n",
    "s1=set(lst)\n",
    "for i in s1:\n",
    "    cnt=0\n",
    "    for j in lst:\n",
    "        if j==i:\n",
    "            cnt=cnt+1\n",
    "    print(\"No of times {ele} occured is \".format(ele=i)+str(cnt))"
   ]
  },
  {
   "cell_type": "code",
   "execution_count": null,
   "id": "20d825ac",
   "metadata": {},
   "outputs": [],
   "source": []
  }
 ],
 "metadata": {
  "kernelspec": {
   "display_name": "Python 3",
   "language": "python",
   "name": "python3"
  },
  "language_info": {
   "codemirror_mode": {
    "name": "ipython",
    "version": 3
   },
   "file_extension": ".py",
   "mimetype": "text/x-python",
   "name": "python",
   "nbconvert_exporter": "python",
   "pygments_lexer": "ipython3",
   "version": "3.8.8"
  }
 },
 "nbformat": 4,
 "nbformat_minor": 5
}
