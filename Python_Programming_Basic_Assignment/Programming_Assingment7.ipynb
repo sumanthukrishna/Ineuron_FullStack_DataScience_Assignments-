{
 "cells": [
  {
   "cell_type": "markdown",
   "id": "4cb1f5c6",
   "metadata": {},
   "source": [
    "1.\tWrite a Python Program to find sum of array?"
   ]
  },
  {
   "cell_type": "code",
   "execution_count": 6,
   "id": "7090cd1d",
   "metadata": {},
   "outputs": [
    {
     "name": "stdout",
     "output_type": "stream",
     "text": [
      "Enter the Array: [1, 2, 3, 4, 5, 6, 7]\n",
      "Sum of the lements in array is 28\n"
     ]
    }
   ],
   "source": [
    "arr = eval(input(\"Enter the Array: \"))\n",
    "sum=0\n",
    "for i in range(len(in_arr)):\n",
    "    sum =sum+arr[i]\n",
    "print('Sum of the lements in array is {}'.format(sum))"
   ]
  },
  {
   "cell_type": "markdown",
   "id": "394db2f5",
   "metadata": {},
   "source": [
    "2.\tWrite a Python Program to find largest element in an array?"
   ]
  },
  {
   "cell_type": "code",
   "execution_count": 10,
   "id": "37d4b082",
   "metadata": {},
   "outputs": [
    {
     "name": "stdout",
     "output_type": "stream",
     "text": [
      "Enter the Array: [12121,244,457,78743,232434,6677,23232344]\n",
      "Graetest of all elements in array is 23232344\n"
     ]
    }
   ],
   "source": [
    "arr = eval(input(\"Enter the Array: \"))\n",
    "largest=0\n",
    "for i in range(len(arr)):\n",
    "    if arr[i]>largest:\n",
    "        largest=arr[i]\n",
    "print('Graetest of all elements in array is {}'.format(largest))"
   ]
  },
  {
   "cell_type": "markdown",
   "id": "11437e45",
   "metadata": {},
   "source": [
    "3.\tWrite a Python Program for array rotation?"
   ]
  },
  {
   "cell_type": "code",
   "execution_count": 16,
   "id": "28cb9cde",
   "metadata": {},
   "outputs": [
    {
     "name": "stdout",
     "output_type": "stream",
     "text": [
      "Enter the Array: [123,3432,657,232,134,8989]\n",
      "[8989, 134, 232, 657, 3432, 123]\n"
     ]
    }
   ],
   "source": [
    "arr = eval(input(\"Enter the Array: \"))\n",
    "print(arr[::-1])"
   ]
  },
  {
   "cell_type": "markdown",
   "id": "806c170e",
   "metadata": {},
   "source": [
    "4.\tWrite a Python Program to Split the array and add the first part to the end?"
   ]
  },
  {
   "cell_type": "code",
   "execution_count": 24,
   "id": "1f470bca",
   "metadata": {},
   "outputs": [
    {
     "name": "stdout",
     "output_type": "stream",
     "text": [
      "Enter the Array: [1,3,4,67,8,989]\n"
     ]
    },
    {
     "data": {
      "text/plain": [
       "[3, 4, 67, 8, 989, 1]"
      ]
     },
     "execution_count": 24,
     "metadata": {},
     "output_type": "execute_result"
    }
   ],
   "source": [
    "arr = eval(input(\"Enter the Array: \"))\n",
    "arr[1:]+arr[0:1]"
   ]
  },
  {
   "cell_type": "markdown",
   "id": "a7260adc",
   "metadata": {},
   "source": [
    "5.\tWrite a Python Program to check if given array is Monotonic?"
   ]
  },
  {
   "cell_type": "code",
   "execution_count": 29,
   "id": "aeace55d",
   "metadata": {},
   "outputs": [
    {
     "name": "stdout",
     "output_type": "stream",
     "text": [
      "Enter the Array: [1,2,3,4,5,67]\n",
      "Yeah its monotnic array\n"
     ]
    }
   ],
   "source": [
    "arr = eval(input(\"Enter the Array: \"))\n",
    "l=len(arr)\n",
    "\n",
    "flag1=True\n",
    "flag2=True\n",
    "\n",
    "for i in range(l-1):\n",
    "    if arr[i] < arr[i+1]:\n",
    "        continue\n",
    "    else:\n",
    "        flag1=False\n",
    "        break\n",
    "\n",
    "for i in range(l):\n",
    "    if arr[i]>arr[i+1]:\n",
    "        continue\n",
    "    else:\n",
    "        flag2=False\n",
    "        break\n",
    "        \n",
    "        \n",
    "if flag1==True or  flag2 ==True:\n",
    "    print(\"Yeah its monotnic array\")"
   ]
  },
  {
   "cell_type": "code",
   "execution_count": null,
   "id": "36d16423",
   "metadata": {},
   "outputs": [],
   "source": []
  }
 ],
 "metadata": {
  "kernelspec": {
   "display_name": "Python 3",
   "language": "python",
   "name": "python3"
  },
  "language_info": {
   "codemirror_mode": {
    "name": "ipython",
    "version": 3
   },
   "file_extension": ".py",
   "mimetype": "text/x-python",
   "name": "python",
   "nbconvert_exporter": "python",
   "pygments_lexer": "ipython3",
   "version": "3.8.8"
  }
 },
 "nbformat": 4,
 "nbformat_minor": 5
}
