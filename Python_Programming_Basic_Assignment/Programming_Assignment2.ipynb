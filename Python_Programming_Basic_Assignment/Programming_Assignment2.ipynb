{
 "cells": [
  {
   "cell_type": "markdown",
   "id": "8e7d6038",
   "metadata": {},
   "source": [
    "1.\tWrite a Python program to convert kilometers to miles?"
   ]
  },
  {
   "cell_type": "code",
   "execution_count": 3,
   "id": "4af08947",
   "metadata": {},
   "outputs": [
    {
     "name": "stdout",
     "output_type": "stream",
     "text": [
      "Enter your kms value 5\n",
      "your miles are 3.106855\n"
     ]
    }
   ],
   "source": [
    "onekmtomiles=0.621371\n",
    "import pyinputplus as pyip\n",
    "yourkms=pyip.inputInt('Enter your kms value ')\n",
    "yourmiles=yourkms*onekmtomiles\n",
    "print('your miles are '+str(yourmiles))"
   ]
  },
  {
   "cell_type": "markdown",
   "id": "df2fbb76",
   "metadata": {},
   "source": [
    "2.\tWrite a Python program to convert Celsius to Fahrenheit?"
   ]
  },
  {
   "cell_type": "code",
   "execution_count": 2,
   "id": "27c36994",
   "metadata": {},
   "outputs": [
    {
     "name": "stdout",
     "output_type": "stream",
     "text": [
      "Enter your centigrade value 37\n",
      "Your farenheit is 98.60000000000001\n"
     ]
    }
   ],
   "source": [
    "import pyinputplus as pyip\n",
    "cent=pyip.inputFloat('Enter your centigrade value ')\n",
    "far=(1.8*(cent))+32\n",
    "print(\"Your farenheit is \"+str(far))"
   ]
  },
  {
   "cell_type": "markdown",
   "id": "51b6fd55",
   "metadata": {},
   "source": [
    "3.\tWrite a Python program to display calendar?"
   ]
  },
  {
   "cell_type": "code",
   "execution_count": 22,
   "id": "5280fb16",
   "metadata": {},
   "outputs": [
    {
     "name": "stdout",
     "output_type": "stream",
     "text": [
      "                                           2022\n",
      "\n",
      "          January                        February                        March\n",
      "Mon Tue Wed Thu Fri Sat Sun    Mon Tue Wed Thu Fri Sat Sun    Mon Tue Wed Thu Fri Sat Sun\n",
      "                      1   2          1   2   3   4   5   6          1   2   3   4   5   6\n",
      "  3   4   5   6   7   8   9      7   8   9  10  11  12  13      7   8   9  10  11  12  13\n",
      " 10  11  12  13  14  15  16     14  15  16  17  18  19  20     14  15  16  17  18  19  20\n",
      " 17  18  19  20  21  22  23     21  22  23  24  25  26  27     21  22  23  24  25  26  27\n",
      " 24  25  26  27  28  29  30     28                             28  29  30  31\n",
      " 31\n",
      "\n",
      "           April                           May                            June\n",
      "Mon Tue Wed Thu Fri Sat Sun    Mon Tue Wed Thu Fri Sat Sun    Mon Tue Wed Thu Fri Sat Sun\n",
      "                  1   2   3                              1              1   2   3   4   5\n",
      "  4   5   6   7   8   9  10      2   3   4   5   6   7   8      6   7   8   9  10  11  12\n",
      " 11  12  13  14  15  16  17      9  10  11  12  13  14  15     13  14  15  16  17  18  19\n",
      " 18  19  20  21  22  23  24     16  17  18  19  20  21  22     20  21  22  23  24  25  26\n",
      " 25  26  27  28  29  30         23  24  25  26  27  28  29     27  28  29  30\n",
      "                                30  31\n",
      "\n",
      "            July                          August                       September\n",
      "Mon Tue Wed Thu Fri Sat Sun    Mon Tue Wed Thu Fri Sat Sun    Mon Tue Wed Thu Fri Sat Sun\n",
      "                  1   2   3      1   2   3   4   5   6   7                  1   2   3   4\n",
      "  4   5   6   7   8   9  10      8   9  10  11  12  13  14      5   6   7   8   9  10  11\n",
      " 11  12  13  14  15  16  17     15  16  17  18  19  20  21     12  13  14  15  16  17  18\n",
      " 18  19  20  21  22  23  24     22  23  24  25  26  27  28     19  20  21  22  23  24  25\n",
      " 25  26  27  28  29  30  31     29  30  31                     26  27  28  29  30\n",
      "\n",
      "          October                        November                       December\n",
      "Mon Tue Wed Thu Fri Sat Sun    Mon Tue Wed Thu Fri Sat Sun    Mon Tue Wed Thu Fri Sat Sun\n",
      "                      1   2          1   2   3   4   5   6                  1   2   3   4\n",
      "  3   4   5   6   7   8   9      7   8   9  10  11  12  13      5   6   7   8   9  10  11\n",
      " 10  11  12  13  14  15  16     14  15  16  17  18  19  20     12  13  14  15  16  17  18\n",
      " 17  18  19  20  21  22  23     21  22  23  24  25  26  27     19  20  21  22  23  24  25\n",
      " 24  25  26  27  28  29  30     28  29  30                     26  27  28  29  30  31\n",
      " 31\n",
      "\n"
     ]
    }
   ],
   "source": [
    "import calendar as cd\n",
    "print (cd.calendar(2022,3,1,4))"
   ]
  },
  {
   "cell_type": "code",
   "execution_count": 25,
   "id": "18fe4ca5",
   "metadata": {},
   "outputs": [
    {
     "name": "stdout",
     "output_type": "stream",
     "text": [
      "         March 2022\n",
      "Mon Tue Wed Thu Fri Sat Sun\n",
      "      1   2   3   4   5   6\n",
      "  7   8   9  10  11  12  13\n",
      " 14  15  16  17  18  19  20\n",
      " 21  22  23  24  25  26  27\n",
      " 28  29  30  31\n",
      "\n"
     ]
    }
   ],
   "source": [
    "print (cd.month(2022,3,3,1)) "
   ]
  },
  {
   "cell_type": "markdown",
   "id": "78d2cd2d",
   "metadata": {},
   "source": [
    "4.\tWrite a Python program to solve quadratic equation?"
   ]
  },
  {
   "cell_type": "code",
   "execution_count": 6,
   "id": "d3c07c5a",
   "metadata": {},
   "outputs": [
    {
     "name": "stdout",
     "output_type": "stream",
     "text": [
      "Enter the value of A   5\n",
      "Enter the value of B   6\n",
      "Enter the value of c   1\n",
      "Root one is -0.2\n",
      "Root two is -1.0\n"
     ]
    }
   ],
   "source": [
    "#Quadratic equation shsould be of frm ax2+bx+c=0 while giving below cofficients \n",
    "import pyinputplus as pyip\n",
    "import math\n",
    "a=pyip.inputFloat('Enter the value of A   ')\n",
    "b=pyip.inputFloat('Enter the value of B   ')\n",
    "c=pyip.inputFloat('Enter the value of c   ')\n",
    "\n",
    "try:\n",
    "    dis=math.sqrt((b**2)-(4*a*c))\n",
    "    sol1=((-b)+dis)/(2*a)\n",
    "    sol2=((-b)-dis)/(2*a)\n",
    "    print(\"Root one is \"+str(sol1))\n",
    "    print(\"Root two is \"+str(sol2))\n",
    "except Exception as e:\n",
    "    print(e)\n",
    "\n",
    "    #Basically here the sqrt function fails when we fetch the square root of negative numbers "
   ]
  },
  {
   "cell_type": "code",
   "execution_count": 7,
   "id": "78bf3b13",
   "metadata": {},
   "outputs": [
    {
     "ename": "ValueError",
     "evalue": "math domain error",
     "output_type": "error",
     "traceback": [
      "\u001b[1;31m---------------------------------------------------------------------------\u001b[0m",
      "\u001b[1;31mValueError\u001b[0m                                Traceback (most recent call last)",
      "\u001b[1;32m<ipython-input-7-100636e5d0ae>\u001b[0m in \u001b[0;36m<module>\u001b[1;34m\u001b[0m\n\u001b[1;32m----> 1\u001b[1;33m \u001b[0mmath\u001b[0m\u001b[1;33m.\u001b[0m\u001b[0msqrt\u001b[0m\u001b[1;33m(\u001b[0m\u001b[1;33m-\u001b[0m\u001b[1;36m9\u001b[0m\u001b[1;33m)\u001b[0m\u001b[1;33m\u001b[0m\u001b[1;33m\u001b[0m\u001b[0m\n\u001b[0m",
      "\u001b[1;31mValueError\u001b[0m: math domain error"
     ]
    }
   ],
   "source": [
    "math.sqrt(-9)"
   ]
  },
  {
   "cell_type": "markdown",
   "id": "ce23bab7",
   "metadata": {},
   "source": [
    "5.\tWrite a Python program to swap two variables without temp variable?"
   ]
  },
  {
   "cell_type": "code",
   "execution_count": 9,
   "id": "4c4e2a1c",
   "metadata": {},
   "outputs": [
    {
     "name": "stdout",
     "output_type": "stream",
     "text": [
      "Enter value of a   3\n",
      "Enter value of b   4\n",
      "Value of a is now ....4\n",
      "Value of b is now ....3\n"
     ]
    }
   ],
   "source": [
    "a=pyip.inputInt('Enter value of a   ')\n",
    "b=pyip.inputInt('Enter value of b   ')\n",
    "a=a+b\n",
    "b=a-b\n",
    "a=a-b\n",
    "print('Value of a is now ....'+str(a))\n",
    "print('Value of b is now ....'+str(b))"
   ]
  },
  {
   "cell_type": "code",
   "execution_count": null,
   "id": "1379cffd",
   "metadata": {},
   "outputs": [],
   "source": []
  }
 ],
 "metadata": {
  "kernelspec": {
   "display_name": "Python 3",
   "language": "python",
   "name": "python3"
  },
  "language_info": {
   "codemirror_mode": {
    "name": "ipython",
    "version": 3
   },
   "file_extension": ".py",
   "mimetype": "text/x-python",
   "name": "python",
   "nbconvert_exporter": "python",
   "pygments_lexer": "ipython3",
   "version": "3.8.8"
  }
 },
 "nbformat": 4,
 "nbformat_minor": 5
}
