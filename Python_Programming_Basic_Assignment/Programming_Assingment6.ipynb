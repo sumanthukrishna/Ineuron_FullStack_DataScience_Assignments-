{
 "cells": [
  {
   "cell_type": "markdown",
   "id": "83bc3499",
   "metadata": {},
   "source": [
    "1.\tWrite a Python Program to Display Fibonacci Sequence Using Recursion?"
   ]
  },
  {
   "cell_type": "code",
   "execution_count": 1,
   "id": "fae6f150",
   "metadata": {},
   "outputs": [
    {
     "name": "stdout",
     "output_type": "stream",
     "text": [
      "Enter the length of Series: 5\n",
      "1,1,2, 3, 5, 8, 13, 21, "
     ]
    }
   ],
   "source": [
    "def Fibonacci(n,a,b):\n",
    "    if n == 0:\n",
    "        return 1\n",
    "    else:\n",
    "        result = a+b\n",
    "        print(result, end=', ')\n",
    "        Fibonacci(n-1,b,result)\n",
    "in_num = int(input('Enter the length of Series: '))\n",
    "print('1,1,2',end=', ')\n",
    "Fibonacci(in_num,1,2)"
   ]
  },
  {
   "cell_type": "markdown",
   "id": "d3a51323",
   "metadata": {},
   "source": [
    "2.\tWrite a Python Program to Find Factorial of Number Using Recursion?"
   ]
  },
  {
   "cell_type": "code",
   "execution_count": 6,
   "id": "02060485",
   "metadata": {},
   "outputs": [],
   "source": [
    "def fact(n):\n",
    "    if n<1:\n",
    "        return 1\n",
    "    else:\n",
    "        return n * fact(n-1)"
   ]
  },
  {
   "cell_type": "code",
   "execution_count": 7,
   "id": "04f4de6c",
   "metadata": {},
   "outputs": [
    {
     "name": "stdout",
     "output_type": "stream",
     "text": [
      "120\n"
     ]
    }
   ],
   "source": [
    "print(fact(5))"
   ]
  },
  {
   "cell_type": "markdown",
   "id": "8ad7e33b",
   "metadata": {},
   "source": [
    "3.\tWrite a Python Program to calculate your Body Mass Index?"
   ]
  },
  {
   "cell_type": "code",
   "execution_count": 17,
   "id": "510444f7",
   "metadata": {},
   "outputs": [],
   "source": [
    "import pyinputplus as pypi\n",
    "def calcbmi():\n",
    "    wt=pypi.inputFloat('Enter the weight in kgs......')\n",
    "    ht=pypi.inputFloat('Enter the height in mts......')\n",
    "    bmi=wt/(ht**2)\n",
    "    if (bmi < 18.5):\n",
    "        status = 'Underweight'\n",
    "    elif (bmi >= 18.5 and calc_bmi < 24.9):\n",
    "        status = 'Healthy'\n",
    "    elif (bmi >= 24.9 and calc_bmi < 30):\n",
    "        status = 'Overweight'\n",
    "    elif (bmi >=30):\n",
    "        status = 'Suffering from Obesity'\n",
    "    print('status is {}'.format(status) )"
   ]
  },
  {
   "cell_type": "code",
   "execution_count": 18,
   "id": "28a055e0",
   "metadata": {},
   "outputs": [
    {
     "name": "stdout",
     "output_type": "stream",
     "text": [
      "Enter the weight in kgs......75\n",
      "Enter the height in mts......3.5\n",
      "status is Underweight\n"
     ]
    }
   ],
   "source": [
    "calcbmi()"
   ]
  },
  {
   "cell_type": "markdown",
   "id": "92ebca4d",
   "metadata": {},
   "source": [
    "4.\tWrite a Python Program to calculate the natural logarithm of any number?"
   ]
  },
  {
   "cell_type": "code",
   "execution_count": 21,
   "id": "ed2af429",
   "metadata": {},
   "outputs": [
    {
     "name": "stdout",
     "output_type": "stream",
     "text": [
      "Enter the number ...15\n",
      "Natural logarith for 15 is 2.70805020110221\n"
     ]
    }
   ],
   "source": [
    "import pyinputplus as pypi\n",
    "import math\n",
    "num=pypi.inputInt('Enter the number ...')\n",
    "val=math.log(num)\n",
    "print('Natural logarith for {} is {}'.format(num,val)) "
   ]
  },
  {
   "cell_type": "markdown",
   "id": "017a3ebf",
   "metadata": {},
   "source": [
    "5.\tWrite a Python Program for cube sum of first n natural numbers?"
   ]
  },
  {
   "cell_type": "code",
   "execution_count": 24,
   "id": "c4d7d9e3",
   "metadata": {},
   "outputs": [
    {
     "name": "stdout",
     "output_type": "stream",
     "text": [
      "Enter the number till which u want sum of cubes ...5\n",
      "225\n"
     ]
    }
   ],
   "source": [
    "num =pypi.inputInt('Enter the number till which u want sum of cubes ...')\n",
    "sum=0\n",
    "for i in range(1,num+1,1):\n",
    "    sum =sum+(i*i*i)\n",
    "print(sum)"
   ]
  },
  {
   "cell_type": "code",
   "execution_count": null,
   "id": "3dabec24",
   "metadata": {},
   "outputs": [],
   "source": []
  }
 ],
 "metadata": {
  "kernelspec": {
   "display_name": "Python 3",
   "language": "python",
   "name": "python3"
  },
  "language_info": {
   "codemirror_mode": {
    "name": "ipython",
    "version": 3
   },
   "file_extension": ".py",
   "mimetype": "text/x-python",
   "name": "python",
   "nbconvert_exporter": "python",
   "pygments_lexer": "ipython3",
   "version": "3.8.8"
  }
 },
 "nbformat": 4,
 "nbformat_minor": 5
}
