{
 "cells": [
  {
   "cell_type": "markdown",
   "id": "25e103fe",
   "metadata": {},
   "source": [
    "1.\tWrite a Python Program to Find LCM?"
   ]
  },
  {
   "cell_type": "code",
   "execution_count": 10,
   "id": "a4419182",
   "metadata": {},
   "outputs": [],
   "source": [
    "def findTheLcm(x_term,y_term):\n",
    "    if x_term > y_term:\n",
    "        greater = x_term\n",
    "    else:\n",
    "        greater = x_term\n",
    "    while True:\n",
    "        if((greater%x_term == 0) and (greater%y_term == 0)):\n",
    "            lcm = greater\n",
    "            break\n",
    "        else:\n",
    "            greater =greater+1\n",
    "    print(f'The LCM of {x_term},{y_term} is {lcm}')"
   ]
  },
  {
   "cell_type": "code",
   "execution_count": 11,
   "id": "93525421",
   "metadata": {},
   "outputs": [
    {
     "name": "stdout",
     "output_type": "stream",
     "text": [
      "The LCM of 3,5 is 15\n"
     ]
    }
   ],
   "source": [
    "findTheLcm(3,5)"
   ]
  },
  {
   "cell_type": "markdown",
   "id": "658227ca",
   "metadata": {},
   "source": [
    "2.\tWrite a Python Program to Find HCF?"
   ]
  },
  {
   "cell_type": "code",
   "execution_count": 13,
   "id": "f793492c",
   "metadata": {},
   "outputs": [
    {
     "data": {
      "text/plain": [
       "1"
      ]
     },
     "execution_count": 13,
     "metadata": {},
     "output_type": "execute_result"
    }
   ],
   "source": [
    "import math\n",
    "math.gcd(3,5)"
   ]
  },
  {
   "cell_type": "markdown",
   "id": "ce9e9d05",
   "metadata": {},
   "source": [
    "3.\tWrite a Python Program to Convert Decimal to Binary, Octal and Hexadecimal?"
   ]
  },
  {
   "cell_type": "code",
   "execution_count": 21,
   "id": "80484cee",
   "metadata": {},
   "outputs": [
    {
     "name": "stdout",
     "output_type": "stream",
     "text": [
      "Enter your number12\n",
      "Binary format for 12 is 0b1100 \n",
      "Octalmat for 12 is 0o14 \n",
      "Hexadecimal format for 12 is 0xc \n"
     ]
    }
   ],
   "source": [
    "import pyinputplus as pypi\n",
    "num=pypi.inputInt('Enter your number')\n",
    "print('Binary format for {} is {} '.format(num,bin(num)))\n",
    "print('Octalmat for {} is {} '.format(num,oct(num)))\n",
    "print('Hexadecimal format for {} is {} '.format(num,hex(num)))"
   ]
  },
  {
   "cell_type": "markdown",
   "id": "606a1efa",
   "metadata": {},
   "source": [
    "4.\tWrite a Python Program To Find ASCII value of a character?"
   ]
  },
  {
   "cell_type": "code",
   "execution_count": 26,
   "id": "e22f5d2d",
   "metadata": {},
   "outputs": [
    {
     "name": "stdout",
     "output_type": "stream",
     "text": [
      "Enter your character/number/alphanumericp\n",
      "ASCII format for p is 112 \n"
     ]
    }
   ],
   "source": [
    "#we have used ord() function to convert a character to an integer (ASCII value). This function returns the Unicode code point of that character.\n",
    "num=input('Enter your character/number/alphanumeric')\n",
    "print('ASCII format for {} is {} '.format(num,ord(num)))"
   ]
  },
  {
   "cell_type": "markdown",
   "id": "0b214424",
   "metadata": {},
   "source": [
    "5.\tWrite a Python Program to Make a Simple Calculator with 4 basic mathematical operations?"
   ]
  },
  {
   "cell_type": "code",
   "execution_count": 36,
   "id": "e125c7fb",
   "metadata": {},
   "outputs": [
    {
     "name": "stdout",
     "output_type": "stream",
     "text": [
      "['1.Press one for addition',\n",
      " '2.Press two for sub',\n",
      " '3.Press three for subtarction',\n",
      " '4.Press four for division']\n",
      "Enter choice   3\n",
      "Enter value 1   45\n",
      "Enter value 2   98\n",
      "4410.0\n"
     ]
    }
   ],
   "source": [
    "import pprint\n",
    "import pyinputplus as pyip\n",
    "ops=['1.Press one for addition','2.Press two for sub','3.Press three for subtarction','4.Press four for division']\n",
    "pprint.pprint(ops)\n",
    "ch=pyip.inputFloat('Enter choice   ')\n",
    "a=pyip.inputFloat('Enter value 1   ')\n",
    "b=pyip.inputFloat('Enter value 2   ')\n",
    "\n",
    "if ch==1:\n",
    "    print(a+b)\n",
    "elif ch==2:\n",
    "    print(a-b)\n",
    "elif ch==3:\n",
    "    print(a*b)\n",
    "else:\n",
    "    try:\n",
    "        print(a/b)\n",
    "    except Exception as err:\n",
    "        print(err)"
   ]
  },
  {
   "cell_type": "code",
   "execution_count": null,
   "id": "7ce97f2c",
   "metadata": {},
   "outputs": [],
   "source": []
  },
  {
   "cell_type": "code",
   "execution_count": null,
   "id": "c18d5a3f",
   "metadata": {},
   "outputs": [],
   "source": []
  },
  {
   "cell_type": "code",
   "execution_count": null,
   "id": "41480332",
   "metadata": {},
   "outputs": [],
   "source": []
  },
  {
   "cell_type": "code",
   "execution_count": null,
   "id": "330459f9",
   "metadata": {},
   "outputs": [],
   "source": []
  },
  {
   "cell_type": "code",
   "execution_count": null,
   "id": "7067fd06",
   "metadata": {},
   "outputs": [],
   "source": []
  },
  {
   "cell_type": "code",
   "execution_count": null,
   "id": "578f0897",
   "metadata": {},
   "outputs": [],
   "source": []
  },
  {
   "cell_type": "code",
   "execution_count": null,
   "id": "a2f02e4b",
   "metadata": {},
   "outputs": [],
   "source": []
  },
  {
   "cell_type": "code",
   "execution_count": null,
   "id": "9d1a5103",
   "metadata": {},
   "outputs": [],
   "source": []
  },
  {
   "cell_type": "code",
   "execution_count": null,
   "id": "11f1cfa4",
   "metadata": {},
   "outputs": [],
   "source": []
  }
 ],
 "metadata": {
  "kernelspec": {
   "display_name": "Python 3",
   "language": "python",
   "name": "python3"
  },
  "language_info": {
   "codemirror_mode": {
    "name": "ipython",
    "version": 3
   },
   "file_extension": ".py",
   "mimetype": "text/x-python",
   "name": "python",
   "nbconvert_exporter": "python",
   "pygments_lexer": "ipython3",
   "version": "3.8.8"
  }
 },
 "nbformat": 4,
 "nbformat_minor": 5
}
