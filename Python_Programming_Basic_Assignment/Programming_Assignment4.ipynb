{
 "cells": [
  {
   "cell_type": "markdown",
   "id": "f9179c7b",
   "metadata": {},
   "source": [
    "1.\tWrite a Python Program to Find the Factorial of a Number?"
   ]
  },
  {
   "cell_type": "code",
   "execution_count": 2,
   "id": "fd5afc7c",
   "metadata": {},
   "outputs": [
    {
     "name": "stdout",
     "output_type": "stream",
     "text": [
      "Enter your number12\n",
      "479001600\n"
     ]
    }
   ],
   "source": [
    "import pyinputplus as pyip\n",
    "import math as mt\n",
    "\n",
    "your_num=pyip.inputInt('Enter your number')\n",
    "print(mt.factorial(your_num))"
   ]
  },
  {
   "cell_type": "markdown",
   "id": "4f29ab1d",
   "metadata": {},
   "source": [
    "2.\tWrite a Python Program to Display the multiplication Table?"
   ]
  },
  {
   "cell_type": "code",
   "execution_count": 3,
   "id": "3980569c",
   "metadata": {},
   "outputs": [
    {
     "name": "stdout",
     "output_type": "stream",
     "text": [
      "Enter the mutiplier12\n",
      "1 * 12 = 12\n",
      "2 * 12 = 24\n",
      "3 * 12 = 36\n",
      "4 * 12 = 48\n",
      "5 * 12 = 60\n",
      "6 * 12 = 72\n",
      "7 * 12 = 84\n",
      "8 * 12 = 96\n",
      "9 * 12 = 108\n",
      "10 * 12 = 120\n",
      "11 * 12 = 132\n"
     ]
    }
   ],
   "source": [
    "import pyinputplus as pyip\n",
    "mul=pyip.inputInt(\"Enter the mutiplier\")\n",
    "\n",
    "for i in range(1,12):\n",
    "    print(str(i)+\" * \"+str(mul)+ \" = \"+str(mul*i))"
   ]
  },
  {
   "cell_type": "markdown",
   "id": "0ccd7abc",
   "metadata": {},
   "source": [
    "3.\tWrite a Python Program to Print the Fibonacci sequence?"
   ]
  },
  {
   "cell_type": "code",
   "execution_count": 6,
   "id": "80187ad4",
   "metadata": {},
   "outputs": [
    {
     "name": "stdout",
     "output_type": "stream",
     "text": [
      "1\n",
      "1\n",
      "2\n",
      "3\n",
      "5\n",
      "8\n",
      "13\n",
      "21\n",
      "34\n",
      "55\n",
      "89\n",
      "144\n"
     ]
    }
   ],
   "source": [
    "a=1\n",
    "b=1\n",
    "c=0\n",
    "print(a)\n",
    "print(b)\n",
    "while c<100:\n",
    "    c=a+b\n",
    "    a=b\n",
    "    b=c\n",
    "    print(c)\n"
   ]
  },
  {
   "cell_type": "markdown",
   "id": "a1cace34",
   "metadata": {},
   "source": [
    "4.\tWrite a Python Program to Check Armstrong Number?"
   ]
  },
  {
   "cell_type": "code",
   "execution_count": 9,
   "id": "5b5edb36",
   "metadata": {},
   "outputs": [
    {
     "name": "stdout",
     "output_type": "stream",
     "text": [
      "Enter your number153\n",
      "153is an Armstrong number\n"
     ]
    }
   ],
   "source": [
    "import pyinputplus as pyip\n",
    "import math\n",
    "orgnumber=pyip.inputInt('Enter your number')\n",
    "holder=orgnumber\n",
    "new=0\n",
    "while holder>0:\n",
    "    r=holder%10\n",
    "    new=new+(r*r*r)\n",
    "    holder=int(holder/10)\n",
    "\n",
    "if new==orgnumber:\n",
    "    print(str(orgnumber)+\"is an Armstrong number\")"
   ]
  },
  {
   "cell_type": "code",
   "execution_count": 12,
   "id": "1f4c8bae",
   "metadata": {},
   "outputs": [
    {
     "name": "stdout",
     "output_type": "stream",
     "text": [
      "Enter your number12\n",
      "12is not an Armstrong number\n"
     ]
    }
   ],
   "source": [
    "import pyinputplus as pyip\n",
    "orgnumber=pyip.inputInt('Enter your number')\n",
    "holder=orgnumber\n",
    "new=0\n",
    "while holder>0:\n",
    "    r=holder%10\n",
    "    new=new+(r*r*r)\n",
    "    holder=int(holder/10)\n",
    "\n",
    "if new==orgnumber:\n",
    "    print(str(orgnumber)+\"is an Armstrong number\")\n",
    "else:\n",
    "    print(str(orgnumber)+\"is not an Armstrong number\")"
   ]
  },
  {
   "cell_type": "markdown",
   "id": "583ea41f",
   "metadata": {},
   "source": [
    "5.\tWrite a Python Program to Find Armstrong Number in an Interval?"
   ]
  },
  {
   "cell_type": "code",
   "execution_count": 17,
   "id": "d5f85198",
   "metadata": {},
   "outputs": [
    {
     "name": "stdout",
     "output_type": "stream",
     "text": [
      "101is not an Armstrong number\n",
      "103is not an Armstrong number\n",
      "105is not an Armstrong number\n",
      "107is not an Armstrong number\n",
      "109is not an Armstrong number\n",
      "111is not an Armstrong number\n",
      "113is not an Armstrong number\n",
      "115is not an Armstrong number\n",
      "117is not an Armstrong number\n",
      "119is not an Armstrong number\n",
      "121is not an Armstrong number\n",
      "123is not an Armstrong number\n",
      "125is not an Armstrong number\n",
      "127is not an Armstrong number\n",
      "129is not an Armstrong number\n",
      "131is not an Armstrong number\n",
      "133is not an Armstrong number\n",
      "135is not an Armstrong number\n",
      "137is not an Armstrong number\n",
      "139is not an Armstrong number\n",
      "141is not an Armstrong number\n",
      "143is not an Armstrong number\n",
      "145is not an Armstrong number\n",
      "147is not an Armstrong number\n",
      "149is not an Armstrong number\n",
      "151is not an Armstrong number\n",
      "153is an Armstrong number\n",
      "155is not an Armstrong number\n",
      "157is not an Armstrong number\n",
      "159is not an Armstrong number\n",
      "161is not an Armstrong number\n",
      "163is not an Armstrong number\n",
      "165is not an Armstrong number\n",
      "167is not an Armstrong number\n",
      "169is not an Armstrong number\n",
      "171is not an Armstrong number\n",
      "173is not an Armstrong number\n",
      "175is not an Armstrong number\n",
      "177is not an Armstrong number\n",
      "179is not an Armstrong number\n",
      "181is not an Armstrong number\n",
      "183is not an Armstrong number\n",
      "185is not an Armstrong number\n",
      "187is not an Armstrong number\n",
      "189is not an Armstrong number\n",
      "191is not an Armstrong number\n",
      "193is not an Armstrong number\n",
      "195is not an Armstrong number\n",
      "197is not an Armstrong number\n",
      "199is not an Armstrong number\n"
     ]
    }
   ],
   "source": [
    "for i in range(101,200,2):\n",
    "    orgnumber=i\n",
    "    holder=orgnumber\n",
    "    new=0\n",
    "    while holder>0:\n",
    "        r=holder%10\n",
    "        new=new+(r*r*r)\n",
    "        holder=int(holder/10)\n",
    "    if new==orgnumber:\n",
    "        print(str(orgnumber)+\"is an Armstrong number\")\n",
    "    else:\n",
    "        print(str(orgnumber)+\"is not an Armstrong number\")\n",
    "    "
   ]
  },
  {
   "cell_type": "markdown",
   "id": "4de01ef4",
   "metadata": {},
   "source": [
    "6.\tWrite a Python Program to Find the Sum of Natural Numbers?"
   ]
  },
  {
   "cell_type": "code",
   "execution_count": 19,
   "id": "c96388b8",
   "metadata": {},
   "outputs": [
    {
     "name": "stdout",
     "output_type": "stream",
     "text": [
      "Enter your no of numbers which u want sum 20\n",
      "210.0\n"
     ]
    }
   ],
   "source": [
    "n=pyip.inputInt('Enter your no of numbers which u want sum ')\n",
    "sum =((n*n)+n)/2\n",
    "print(sum)"
   ]
  },
  {
   "cell_type": "code",
   "execution_count": null,
   "id": "585bab5d",
   "metadata": {},
   "outputs": [],
   "source": []
  }
 ],
 "metadata": {
  "kernelspec": {
   "display_name": "Python 3",
   "language": "python",
   "name": "python3"
  },
  "language_info": {
   "codemirror_mode": {
    "name": "ipython",
    "version": 3
   },
   "file_extension": ".py",
   "mimetype": "text/x-python",
   "name": "python",
   "nbconvert_exporter": "python",
   "pygments_lexer": "ipython3",
   "version": "3.8.8"
  }
 },
 "nbformat": 4,
 "nbformat_minor": 5
}
