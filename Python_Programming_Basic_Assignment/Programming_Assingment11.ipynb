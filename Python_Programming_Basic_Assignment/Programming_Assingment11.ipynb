{
 "cells": [
  {
   "cell_type": "markdown",
   "id": "64c1d800",
   "metadata": {},
   "source": [
    "1.\tWrite a Python program to find words which are greater than given length k"
   ]
  },
  {
   "cell_type": "code",
   "execution_count": 2,
   "id": "82c66486",
   "metadata": {},
   "outputs": [
    {
     "name": "stdout",
     "output_type": "stream",
     "text": [
      "krishna\n",
      "sumanthu\n",
      "janardhana\n",
      "govinda\n"
     ]
    }
   ],
   "source": [
    "k=5\n",
    "lst=['krishna','sumanthu','rama','janardhana','radha','govinda','shyam']\n",
    "for i in lst:\n",
    "    if len(i)>5:\n",
    "        print(i)"
   ]
  },
  {
   "cell_type": "markdown",
   "id": "6724dab9",
   "metadata": {},
   "source": [
    "2.\tWrite a Python program for removing i-th character from a string?"
   ]
  },
  {
   "cell_type": "raw",
   "id": "b33d41ac",
   "metadata": {},
   "source": [
    "Python strings are \"immutable\" ao we cant use update function instead lets use the concep tof indices and access the data  "
   ]
  },
  {
   "cell_type": "code",
   "execution_count": 28,
   "id": "57aa525f",
   "metadata": {},
   "outputs": [
    {
     "name": "stdout",
     "output_type": "stream",
     "text": [
      "thisisreallycrazy\n",
      "Enter the posotion u want to remove from string 1\n",
      "hisisreallycrazy\n"
     ]
    }
   ],
   "source": [
    "str='thisisreallycrazy'\n",
    "print(str)\n",
    "n=int(input('Enter the posotion u want to remove from string '))\n",
    "l=len(str)\n",
    "newstr=str[0:n-1]+str[n:l]\n",
    "print(newstr)"
   ]
  },
  {
   "cell_type": "markdown",
   "id": "403f2f09",
   "metadata": {},
   "source": [
    "3.\tWrite a Python program to split and join a string?"
   ]
  },
  {
   "cell_type": "code",
   "execution_count": 35,
   "id": "c3cd65df",
   "metadata": {},
   "outputs": [
    {
     "name": "stdout",
     "output_type": "stream",
     "text": [
      "['th', 's', 'sreallycrazy']\n"
     ]
    },
    {
     "data": {
      "text/plain": [
       "'thssreallycrazy'"
      ]
     },
     "execution_count": 35,
     "metadata": {},
     "output_type": "execute_result"
    }
   ],
   "source": [
    "str='thisisreallycrazy'\n",
    "lstone=str.split('i')   #Split\n",
    "print(lstone)\n",
    "newstr.join(lstone)    #Join the strings we have split "
   ]
  },
  {
   "cell_type": "markdown",
   "id": "024f179b",
   "metadata": {},
   "source": [
    "4.\tWrite a Python to check if a given string is binary string or not?"
   ]
  },
  {
   "cell_type": "code",
   "execution_count": 58,
   "id": "7a2e4d96",
   "metadata": {},
   "outputs": [
    {
     "name": "stdout",
     "output_type": "stream",
     "text": [
      "binary string   010100101 is found \n"
     ]
    }
   ],
   "source": [
    "def checkbinstr(a):\n",
    "    s=set(a)\n",
    "    ref={'0','1'}\n",
    "    if s==ref or s=={'0'} or s=={'1'}:\n",
    "        print(\"binary string   {} is found \".format(a))\n",
    "instr1=\"krishna01\"\n",
    "instr2=\"010100101\"\n",
    "instr3=\"78hsjsjhd\"\n",
    "\n",
    "checkbinstr(instr1)\n",
    "checkbinstr(instr2)\n",
    "checkbinstr(instr3)"
   ]
  },
  {
   "cell_type": "markdown",
   "id": "25615470",
   "metadata": {},
   "source": [
    "5.\tWrite a Python program to find uncommon words from two Strings?"
   ]
  },
  {
   "cell_type": "code",
   "execution_count": 59,
   "id": "81ed2e30",
   "metadata": {},
   "outputs": [
    {
     "data": {
      "text/plain": [
       "['two', 'four', 'six', 'seven', 'eight', 'ten', 'thirteen']"
      ]
     },
     "execution_count": 59,
     "metadata": {},
     "output_type": "execute_result"
    }
   ],
   "source": [
    "lst1=['one','two','three','four','five','six','seven','eight']\n",
    "lst2=['one','three','five','ten','thirteen']\n",
    "for i in lst1:\n",
    "    for j in lst2:\n",
    "        if j==i:\n",
    "            lst1.remove(i)\n",
    "            lst2.remove(j)\n",
    "            break\n",
    "lst1+lst2"
   ]
  },
  {
   "cell_type": "markdown",
   "id": "a526000f",
   "metadata": {},
   "source": [
    "6.\tWrite a Python to find all duplicate characters in string?"
   ]
  },
  {
   "cell_type": "code",
   "execution_count": 67,
   "id": "b86d7f0e",
   "metadata": {},
   "outputs": [
    {
     "data": {
      "text/plain": [
       "['s', 'r', 'k']"
      ]
     },
     "execution_count": 67,
     "metadata": {},
     "output_type": "execute_result"
    }
   ],
   "source": [
    "orgstr='krishnarockss'\n",
    "s=set(orgstr)\n",
    "l2=[]\n",
    "for ele1 in s:\n",
    "    count=0\n",
    "    for ele2 in orgstr:\n",
    "        if ele2==ele1:\n",
    "            count=count+1\n",
    "    if count>1:\n",
    "        l2.append(ele1)\n",
    "l2"
   ]
  },
  {
   "cell_type": "markdown",
   "id": "fc22f2f5",
   "metadata": {},
   "source": [
    "7.\tWrite a Python Program to check if a string contains any special character?"
   ]
  },
  {
   "cell_type": "code",
   "execution_count": 12,
   "id": "92cad130",
   "metadata": {},
   "outputs": [
    {
     "name": "stdout",
     "output_type": "stream",
     "text": [
      "we have a special charcater\n"
     ]
    }
   ],
   "source": [
    "#We can use the regex concept to identify the patterns in the given string \n",
    "import re\n",
    "str1='krishnarockss!@#'\n",
    "regex = re.compile('[@_!#$%^&*()<>?/\\|}{~:]')\n",
    "if regex.search(str1):\n",
    "    print(\"we have a special charcater\")\n",
    "else:\n",
    "    print(\"We dont have a special character\")"
   ]
  },
  {
   "cell_type": "code",
   "execution_count": null,
   "id": "f962f3c6",
   "metadata": {},
   "outputs": [],
   "source": []
  }
 ],
 "metadata": {
  "kernelspec": {
   "display_name": "Python 3",
   "language": "python",
   "name": "python3"
  },
  "language_info": {
   "codemirror_mode": {
    "name": "ipython",
    "version": 3
   },
   "file_extension": ".py",
   "mimetype": "text/x-python",
   "name": "python",
   "nbconvert_exporter": "python",
   "pygments_lexer": "ipython3",
   "version": "3.8.8"
  }
 },
 "nbformat": 4,
 "nbformat_minor": 5
}
