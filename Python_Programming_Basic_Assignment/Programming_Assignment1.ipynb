{
 "cells": [
  {
   "cell_type": "markdown",
   "id": "8285c488",
   "metadata": {},
   "source": [
    "1.\tWrite a Python program to print \"Hello Python\"?"
   ]
  },
  {
   "cell_type": "code",
   "execution_count": 1,
   "id": "00b3b77e",
   "metadata": {},
   "outputs": [
    {
     "name": "stdout",
     "output_type": "stream",
     "text": [
      "Hello World\n"
     ]
    }
   ],
   "source": [
    "print(\"Hello World\")"
   ]
  },
  {
   "cell_type": "markdown",
   "id": "0185a53c",
   "metadata": {},
   "source": [
    "2.\tWrite a Python program to do arithmetical operations addition and division.?"
   ]
  },
  {
   "cell_type": "code",
   "execution_count": 16,
   "id": "6f90e0bb",
   "metadata": {},
   "outputs": [
    {
     "name": "stdout",
     "output_type": "stream",
     "text": [
      "[    'Press 1 for addition',\n",
      "     'Press 2 for divsion']\n",
      "Enter choice    2\n",
      "Enter furst value 1\n",
      "Enter seconf value   0\n",
      "division by zeroerror\n"
     ]
    }
   ],
   "source": [
    "import pprint\n",
    "import pyinputplus as pyip\n",
    "ops=['Press 1 for addition','Press 2 for divsion']\n",
    "pprint.pprint(ops,indent=5,width=40)\n",
    "ch=pyip.inputInt('Enter choice    ')\n",
    "va1=pyip.inputInt('Enter furst value ' )\n",
    "va2=pyip.inputInt('Enter seconf value   ')\n",
    "if ch==1:\n",
    "    print(va1+va2)\n",
    "elif ch==2:\n",
    "    try:\n",
    "        res=va1/va2\n",
    "        print(res)\n",
    "    except Exception as err:\n",
    "        print(str(err)+\"error\")\n",
    "else:\n",
    "    print(\"Invalid choice given\")\n",
    "    "
   ]
  },
  {
   "cell_type": "markdown",
   "id": "5153e144",
   "metadata": {},
   "source": [
    "3.\tWrite a Python program to find the area of a triangle?"
   ]
  },
  {
   "cell_type": "code",
   "execution_count": 18,
   "id": "61ec63cc",
   "metadata": {},
   "outputs": [
    {
     "name": "stdout",
     "output_type": "stream",
     "text": [
      "Enter Base of triangle    4\n",
      "Enter height of triangle    5\n",
      "50.0\n"
     ]
    }
   ],
   "source": [
    "bse=pyip.inputInt('Enter Base of triangle    ')\n",
    "heigh=pyip.inputInt('Enter height of triangle    ')\n",
    "area=0.5*bse*(heigh**2)\n",
    "print(area)"
   ]
  },
  {
   "cell_type": "markdown",
   "id": "4e91da07",
   "metadata": {},
   "source": [
    "4.\tWrite a Python program to swap two variables?"
   ]
  },
  {
   "cell_type": "code",
   "execution_count": 23,
   "id": "e287a908",
   "metadata": {},
   "outputs": [
    {
     "name": "stdout",
     "output_type": "stream",
     "text": [
      "Enter value of a   3\n",
      "Enter value of b   4\n",
      "4\n",
      "3\n"
     ]
    }
   ],
   "source": [
    "a=pyip.inputInt('Enter value of a   ')\n",
    "b=pyip.inputInt('Enter value of b   ')\n",
    "a=a+b\n",
    "b=a-b\n",
    "a=a-b\n",
    "print(a)\n",
    "print(b)"
   ]
  },
  {
   "cell_type": "markdown",
   "id": "4f5a7853",
   "metadata": {},
   "source": [
    "5.\tWrite a Python program to generate a random number?"
   ]
  },
  {
   "cell_type": "code",
   "execution_count": 32,
   "id": "8e86c5e0",
   "metadata": {},
   "outputs": [
    {
     "data": {
      "text/plain": [
       "293679"
      ]
     },
     "execution_count": 32,
     "metadata": {},
     "output_type": "execute_result"
    }
   ],
   "source": [
    "import random as rn\n",
    "rn.randrange(-100000,1000000)"
   ]
  },
  {
   "cell_type": "code",
   "execution_count": null,
   "id": "46e0f211",
   "metadata": {},
   "outputs": [],
   "source": []
  }
 ],
 "metadata": {
  "kernelspec": {
   "display_name": "Python 3",
   "language": "python",
   "name": "python3"
  },
  "language_info": {
   "codemirror_mode": {
    "name": "ipython",
    "version": 3
   },
   "file_extension": ".py",
   "mimetype": "text/x-python",
   "name": "python",
   "nbconvert_exporter": "python",
   "pygments_lexer": "ipython3",
   "version": "3.8.8"
  }
 },
 "nbformat": 4,
 "nbformat_minor": 5
}
