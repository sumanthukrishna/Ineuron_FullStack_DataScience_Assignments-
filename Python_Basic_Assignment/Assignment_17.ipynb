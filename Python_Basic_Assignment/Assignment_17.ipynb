{
 "cells": [
  {
   "cell_type": "markdown",
   "id": "bf524f53",
   "metadata": {},
   "source": [
    "1. Assign the value 7 to the variable guess_me. Then, write the conditional tests (if, else, and elif) to print the string 'too low' if guess_me is less than 7, 'too high' if greater than 7, and 'just right' if equal to 7."
   ]
  },
  {
   "cell_type": "code",
   "execution_count": 5,
   "id": "7c105516",
   "metadata": {},
   "outputs": [
    {
     "name": "stdout",
     "output_type": "stream",
     "text": [
      "Enter the integer454\n",
      "too high\n"
     ]
    }
   ],
   "source": [
    "guess_me=7\n",
    "\n",
    "a=int(input ('Enter the integer'))\n",
    "if a==7:\n",
    "    print('Just right' )\n",
    "elif a < 7:\n",
    "    print('too low')\n",
    "else:\n",
    "    print('too high')\n",
    "        \n",
    "    "
   ]
  },
  {
   "cell_type": "markdown",
   "id": "1ae38979",
   "metadata": {},
   "source": [
    "2. Assign the value 7 to the variable guess_me and the value 1 to the variable start. Write a while loop that compares start with guess_me. Print too low if start is less than guess me. If start equals guess_me, print 'found it!' and exit the loop. If start is greater than guess_me, print 'oops' and exit the loop. Increment start at the end of the loop."
   ]
  },
  {
   "cell_type": "code",
   "execution_count": 4,
   "id": "1005ed95",
   "metadata": {},
   "outputs": [
    {
     "name": "stdout",
     "output_type": "stream",
     "text": [
      "too low\n",
      "too low\n",
      "too low\n",
      "too low\n",
      "too low\n",
      "too low\n",
      "found it!\n",
      "oops\n"
     ]
    }
   ],
   "source": [
    "guess_me=7\n",
    "start=1\n",
    "while start>=1:\n",
    "    if start < guess_me:\n",
    "        print('too low')\n",
    "    elif start==guess_me:\n",
    "        print('found it!')\n",
    "    elif start> guess_me:\n",
    "        print('oops')\n",
    "        break\n",
    "    start=start+1\n",
    "              "
   ]
  },
  {
   "cell_type": "markdown",
   "id": "f8c13f46",
   "metadata": {},
   "source": [
    "3. Print the following values of the list [3, 2, 1, 0] using a for loop."
   ]
  },
  {
   "cell_type": "code",
   "execution_count": 5,
   "id": "262a4a9f",
   "metadata": {},
   "outputs": [
    {
     "name": "stdout",
     "output_type": "stream",
     "text": [
      "3\n",
      "2\n",
      "1\n",
      "0\n"
     ]
    }
   ],
   "source": [
    "list_a=[3, 2, 1, 0]\n",
    "for i in list_a:\n",
    "    print(i)"
   ]
  },
  {
   "cell_type": "markdown",
   "id": "a21de2dc",
   "metadata": {},
   "source": [
    "4. Use a list comprehension to make a list of the even numbers in range(10)"
   ]
  },
  {
   "cell_type": "code",
   "execution_count": 8,
   "id": "093babd0",
   "metadata": {},
   "outputs": [
    {
     "name": "stdout",
     "output_type": "stream",
     "text": [
      "[0, 2, 4, 6, 8]\n"
     ]
    }
   ],
   "source": [
    "newlist = [x for x in range(0,10) if x%2==0]\n",
    "print(newlist)"
   ]
  },
  {
   "cell_type": "markdown",
   "id": "a7c92084",
   "metadata": {},
   "source": [
    "5. Use a dictionary comprehension to create the dictionary squares. Use range(10) to return the keys, and use the square of each key as its value."
   ]
  },
  {
   "cell_type": "code",
   "execution_count": 10,
   "id": "105f253b",
   "metadata": {},
   "outputs": [
    {
     "name": "stdout",
     "output_type": "stream",
     "text": [
      "{0: 0, 1: 1, 2: 4, 3: 9, 4: 16, 5: 25, 6: 36, 7: 49, 8: 64, 9: 81}\n"
     ]
    }
   ],
   "source": [
    "sqdict={i:i**2 for i in range(10)}\n",
    "print(sqdict)"
   ]
  },
  {
   "cell_type": "markdown",
   "id": "a02578c0",
   "metadata": {},
   "source": [
    "6. Construct the set odd from the odd numbers in the range using a set comprehension (10)."
   ]
  },
  {
   "cell_type": "code",
   "execution_count": 12,
   "id": "b2e2ccf6",
   "metadata": {},
   "outputs": [
    {
     "name": "stdout",
     "output_type": "stream",
     "text": [
      "{1, 3, 5, 7, 9}\n"
     ]
    }
   ],
   "source": [
    "setodd={i for i  in range(0,10) if i%2!=0}\n",
    "print(setodd)"
   ]
  },
  {
   "cell_type": "markdown",
   "id": "3e69d116",
   "metadata": {},
   "source": [
    "7. Use a generator comprehension to return the string 'Got ' and a number for the numbers in range(10). Iterate through this by using a for loop."
   ]
  },
  {
   "cell_type": "code",
   "execution_count": 18,
   "id": "65a3fb75",
   "metadata": {},
   "outputs": [
    {
     "name": "stdout",
     "output_type": "stream",
     "text": [
      "0\n",
      "1\n",
      "2\n",
      "3\n",
      "4\n",
      "5\n",
      "6\n",
      "7\n",
      "8\n",
      "9\n"
     ]
    }
   ],
   "source": [
    "a=[]\n",
    "a=list({i for i in range(10)})\n",
    "for j in a:\n",
    "    print(j)"
   ]
  },
  {
   "cell_type": "markdown",
   "id": "dacb5898",
   "metadata": {},
   "source": [
    "8. Define a function called good that returns the list ['Harry', 'Ron', 'Hermione']."
   ]
  },
  {
   "cell_type": "code",
   "execution_count": 29,
   "id": "0a211fa8",
   "metadata": {},
   "outputs": [
    {
     "data": {
      "text/plain": [
       "['Harry', 'Ron', 'Hermione']"
      ]
     },
     "execution_count": 29,
     "metadata": {},
     "output_type": "execute_result"
    }
   ],
   "source": [
    "def good():\n",
    "    return ['Harry', 'Ron', 'Hermione']\n",
    "good()"
   ]
  },
  {
   "cell_type": "markdown",
   "id": "f927f46a",
   "metadata": {},
   "source": [
    "9. Define a generator function called get_odds that returns the odd numbers from range(10). Use a for loop to find and print the third value returned."
   ]
  },
  {
   "cell_type": "code",
   "execution_count": 33,
   "id": "0974989d",
   "metadata": {},
   "outputs": [
    {
     "name": "stdout",
     "output_type": "stream",
     "text": [
      "5\n"
     ]
    }
   ],
   "source": [
    "def get_odds():\n",
    "    return  [i for i in range(10) if i%2!=0]\n",
    "cnt=1\n",
    "for j in get_odds():\n",
    "    if cnt==3:\n",
    "        print(j)\n",
    "    cnt=cnt+1\n",
    "    "
   ]
  },
  {
   "cell_type": "markdown",
   "id": "2bd43142",
   "metadata": {},
   "source": [
    "10. Define an exception called OopsException. Raise this exception to see what happens. Then write the code to catch this exception and print 'Caught an oops'."
   ]
  },
  {
   "cell_type": "code",
   "execution_count": 36,
   "id": "e4ecc0bb",
   "metadata": {},
   "outputs": [
    {
     "name": "stdout",
     "output_type": "stream",
     "text": [
      "This is my own custom exception\n"
     ]
    }
   ],
   "source": [
    "class oopsException(Exception):\n",
    "    def __init__(self,msg):\n",
    "        self.msg=msg\n",
    "try:\n",
    "    raise(oopsException(\"This is my own custom exception\"))\n",
    "except oopsException as t:\n",
    "    print(t)"
   ]
  },
  {
   "cell_type": "markdown",
   "id": "b3ece366",
   "metadata": {},
   "source": [
    "11. Use zip() to make a dictionary called movies that pairs these lists: titles = ['Creature of Habit', 'Crewel Fate'] and plots = ['A nun turns into a monster', 'A haunted yarn shop']."
   ]
  },
  {
   "cell_type": "code",
   "execution_count": 47,
   "id": "2f773121",
   "metadata": {},
   "outputs": [
    {
     "data": {
      "text/plain": [
       "[('Creature of Habit', 'A nun turns into a monster'),\n",
       " ('Crewel Fate', 'A haunted yarn shop')]"
      ]
     },
     "execution_count": 47,
     "metadata": {},
     "output_type": "execute_result"
    }
   ],
   "source": [
    "a=list(zip(('Creature of Habit', 'Crewel Fate') ,('A nun turns into a monster', 'A haunted yarn shop')))\n",
    "a"
   ]
  },
  {
   "cell_type": "code",
   "execution_count": 8,
   "id": "c067aa48",
   "metadata": {},
   "outputs": [],
   "source": [
    "class test(Exception):\n",
    "    def __init__(self,msg):\n",
    "        self.msg=msg\n",
    "    def check():\n",
    "        print(\"Hurray iam inside \")"
   ]
  },
  {
   "cell_type": "code",
   "execution_count": 6,
   "id": "b122ab9a",
   "metadata": {},
   "outputs": [
    {
     "name": "stdout",
     "output_type": "stream",
     "text": [
      "Please dont do this operation \n"
     ]
    }
   ],
   "source": [
    "try:\n",
    "    raise(test(\"Please dont do this operation \"))\n",
    "except test as err:\n",
    "    print(err)"
   ]
  },
  {
   "cell_type": "code",
   "execution_count": 9,
   "id": "8514b0f8",
   "metadata": {},
   "outputs": [
    {
     "name": "stdout",
     "output_type": "stream",
     "text": [
      "Hurray iam inside \n"
     ]
    }
   ],
   "source": [
    "test.check()"
   ]
  },
  {
   "cell_type": "code",
   "execution_count": null,
   "id": "1fb965fc",
   "metadata": {},
   "outputs": [],
   "source": []
  }
 ],
 "metadata": {
  "kernelspec": {
   "display_name": "Python 3",
   "language": "python",
   "name": "python3"
  },
  "language_info": {
   "codemirror_mode": {
    "name": "ipython",
    "version": 3
   },
   "file_extension": ".py",
   "mimetype": "text/x-python",
   "name": "python",
   "nbconvert_exporter": "python",
   "pygments_lexer": "ipython3",
   "version": "3.8.8"
  }
 },
 "nbformat": 4,
 "nbformat_minor": 5
}
