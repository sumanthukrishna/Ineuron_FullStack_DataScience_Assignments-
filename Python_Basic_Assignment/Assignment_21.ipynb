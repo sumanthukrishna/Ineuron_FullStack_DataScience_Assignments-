{
 "cells": [
  {
   "cell_type": "markdown",
   "id": "bd239bc5",
   "metadata": {},
   "source": [
    "1. Add the current date to the text file today.txt as a string."
   ]
  },
  {
   "cell_type": "code",
   "execution_count": 2,
   "id": "f25ffa2d",
   "metadata": {},
   "outputs": [],
   "source": [
    "f1=open('today.txt','w')"
   ]
  },
  {
   "cell_type": "code",
   "execution_count": 3,
   "id": "205ea664",
   "metadata": {},
   "outputs": [
    {
     "name": "stdout",
     "output_type": "stream",
     "text": [
      " Volume in drive C is OS\n",
      " Volume Serial Number is D65C-9A4E\n",
      "\n",
      " Directory of C:\\DS\\Ineuron_FullStack_DataScience_Assignments\\Python_Basic_Assignment\n",
      "\n",
      "18-03-2022  16:01    <DIR>          .\n",
      "18-03-2022  16:01    <DIR>          ..\n",
      "18-03-2022  16:00    <DIR>          .ipynb_checkpoints\n",
      "18-03-2022  15:39    <DIR>          __pycache__\n",
      "17-03-2022  21:17            19,313 Assignment_1.docx\n",
      "17-03-2022  21:17            18,420 Assignment_10.docx\n",
      "17-03-2022  21:17            18,643 Assignment_13.docx\n",
      "16-03-2022  16:50             9,284 Assignment_14.docx\n",
      "17-03-2022  22:09            10,282 Assignment_16.ipynb\n",
      "16-03-2022  16:51             9,708 Assignment_17.docx\n",
      "18-03-2022  15:12             9,356 Assignment_17.ipynb\n",
      "18-03-2022  15:58             4,626 Assignment_18.ipynb\n",
      "17-03-2022  21:17            18,723 Assignment_2.docx\n",
      "18-03-2022  15:59                72 Assignment_21.ipynb\n",
      "17-03-2022  21:17            17,968 Assignment_3.docx\n",
      "17-03-2022  21:17            17,784 Assignment_4.docx\n",
      "17-03-2022  21:17            18,064 Assignment_5.docx\n",
      "17-03-2022  21:17            44,796 Assignment_6.docx\n",
      "17-03-2022  21:17            17,447 Assignment_8.docx\n",
      "17-03-2022  21:17            16,618 Assignment_9.docx\n",
      "18-03-2022  16:01                 0 today.txt\n",
      "18-03-2022  15:38                46 zoo.py\n",
      "              18 File(s)        251,150 bytes\n",
      "               4 Dir(s)  115,553,136,640 bytes free\n"
     ]
    }
   ],
   "source": [
    "ls"
   ]
  },
  {
   "cell_type": "code",
   "execution_count": 17,
   "id": "5467bafd",
   "metadata": {},
   "outputs": [
    {
     "data": {
      "text/plain": [
       "10"
      ]
     },
     "execution_count": 17,
     "metadata": {},
     "output_type": "execute_result"
    }
   ],
   "source": [
    "from datetime import date\n",
    "f1=open('today.txt','r+')\n",
    "today = str(date.today())\n",
    "f1.write(today)\n",
    "f1.close()"
   ]
  },
  {
   "cell_type": "code",
   "execution_count": null,
   "id": "ebe2b1a0",
   "metadata": {},
   "outputs": [],
   "source": [
    "2. Read the text file today.txt into the string today_string\n"
   ]
  },
  {
   "cell_type": "code",
   "execution_count": 4,
   "id": "2954fe22",
   "metadata": {},
   "outputs": [
    {
     "name": "stdout",
     "output_type": "stream",
     "text": [
      "2022-03-18\n"
     ]
    }
   ],
   "source": [
    "f2=open('today.txt','r+')\n",
    "today_string=f2.readline()\n",
    "print(today_string)\n",
    "f2.close()"
   ]
  },
  {
   "cell_type": "markdown",
   "id": "de9953f4",
   "metadata": {},
   "source": [
    "3. Parse the date from today_string."
   ]
  },
  {
   "cell_type": "code",
   "execution_count": 6,
   "id": "dc1d5a87",
   "metadata": {},
   "outputs": [
    {
     "name": "stdout",
     "output_type": "stream",
     "text": [
      "2022-03-18 00:00:00\n"
     ]
    }
   ],
   "source": [
    "from datetime import datetime\n",
    "f2=open('today.txt','r+')\n",
    "today_string=f2.readline()\n",
    "parsed_data = datetime.strptime(today_string, '%Y-%m-%d')\n",
    "print(parsed_data)"
   ]
  },
  {
   "cell_type": "markdown",
   "id": "a7e9218e",
   "metadata": {},
   "source": [
    "4. List the files in your current directory"
   ]
  },
  {
   "cell_type": "code",
   "execution_count": 38,
   "id": "4425c292",
   "metadata": {},
   "outputs": [
    {
     "name": "stdout",
     "output_type": "stream",
     "text": [
      "['.ipynb_checkpoints', 'Assignment_1.docx', 'Assignment_10.docx', 'Assignment_13.docx', 'Assignment_14.docx', 'Assignment_16.ipynb', 'Assignment_17.docx', 'Assignment_17.ipynb', 'Assignment_18.ipynb', 'Assignment_2.docx', 'Assignment_21.ipynb', 'Assignment_3.docx', 'Assignment_4.docx', 'Assignment_5.docx', 'Assignment_6.docx', 'Assignment_8.docx', 'Assignment_9.docx', 'today.txt', 'zoo.py', '__pycache__']\n"
     ]
    }
   ],
   "source": [
    "import os\n",
    "arr = os. listdir('C:\\DS\\Ineuron_FullStack_DataScience_Assignments\\Python_Basic_Assignment')\n",
    "print(arr)"
   ]
  },
  {
   "cell_type": "markdown",
   "id": "759cddf7",
   "metadata": {},
   "source": [
    "5. Create a list of all of the files in your parent directory (minimum five files should be available)."
   ]
  },
  {
   "cell_type": "code",
   "execution_count": 41,
   "id": "9bce437e",
   "metadata": {},
   "outputs": [
    {
     "name": "stdout",
     "output_type": "stream",
     "text": [
      "['.ipynb_checkpoints', 'Assignment_1.docx', 'Assignment_10.docx', 'Assignment_13.docx', 'Assignment_14.docx']\n"
     ]
    }
   ],
   "source": [
    "import os \n",
    "all_files=os. listdir('C:\\DS\\Ineuron_FullStack_DataScience_Assignments\\Python_Basic_Assignment')\n",
    "list_of_files=[]\n",
    "for i in range(5):\n",
    "    list_of_files.append(all_files[i])\n",
    "    i==i+1\n",
    "print(list_of_files)"
   ]
  },
  {
   "cell_type": "markdown",
   "id": "55021ece",
   "metadata": {},
   "source": [
    "7. Create a date object of your day of birth."
   ]
  },
  {
   "cell_type": "code",
   "execution_count": 3,
   "id": "a39d790d",
   "metadata": {},
   "outputs": [
    {
     "name": "stdout",
     "output_type": "stream",
     "text": [
      "1996-07-26\n"
     ]
    }
   ],
   "source": [
    "import datetime\n",
    "mybirthday= datetime.date(1996, 7,26)\n",
    "print(mybirthday)"
   ]
  },
  {
   "cell_type": "markdown",
   "id": "a47fdbcc",
   "metadata": {},
   "source": [
    "8. What day of the week was your day of birth?"
   ]
  },
  {
   "cell_type": "code",
   "execution_count": 14,
   "id": "e81a5b12",
   "metadata": {},
   "outputs": [
    {
     "data": {
      "text/plain": [
       "'Friday'"
      ]
     },
     "execution_count": 14,
     "metadata": {},
     "output_type": "execute_result"
    }
   ],
   "source": [
    "import datetime\n",
    "mybirthday= datetime.date(1996, 7,26)\n",
    "mybirthday.strftime(\"%a\")\n",
    "mybirthday.strftime(\"%A\")\n",
    "#Convert object to a string according to a given format"
   ]
  },
  {
   "cell_type": "markdown",
   "id": "63f2022d",
   "metadata": {},
   "source": [
    "9. When will you be (or when were you) 10,000 days old?"
   ]
  },
  {
   "cell_type": "code",
   "execution_count": 5,
   "id": "60d4b9f7",
   "metadata": {},
   "outputs": [
    {
     "name": "stdout",
     "output_type": "stream",
     "text": [
      "I will be 10000 days old in 2023-12-12\n"
     ]
    }
   ],
   "source": [
    "#A timedelta object represents a duration, the difference between two dates or times.\n",
    "import datetime\n",
    "da=datetime.timedelta(days=10000)\n",
    "bir=datetime.date(1996, 7,26)\n",
    "findate=bir+da\n",
    "print(\"I will be 10000 days old in \"+str(findate))"
   ]
  }
 ],
 "metadata": {
  "kernelspec": {
   "display_name": "Python 3",
   "language": "python",
   "name": "python3"
  },
  "language_info": {
   "codemirror_mode": {
    "name": "ipython",
    "version": 3
   },
   "file_extension": ".py",
   "mimetype": "text/x-python",
   "name": "python",
   "nbconvert_exporter": "python",
   "pygments_lexer": "ipython3",
   "version": "3.8.8"
  }
 },
 "nbformat": 4,
 "nbformat_minor": 5
}
